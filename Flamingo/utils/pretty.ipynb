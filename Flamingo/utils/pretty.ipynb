{
 "cells": [
  {
   "cell_type": "code",
   "execution_count": 1,
   "metadata": {},
   "outputs": [
    {
     "name": "stdout",
     "output_type": "stream",
     "text": [
      "[2023-12-21 10:15:32,893] [INFO] [real_accelerator.py:161:get_accelerator] Setting ds_accelerator to cuda (auto detect)\n"
     ]
    }
   ],
   "source": [
    "from Flamingo.utils.pretty import pretty_print, print_local_vars, vis_model\n",
    "from Flamingo.utils.test_model import MyClassifier\n",
    "from loguru import logger\n",
    "from peft import LoraConfig, PeftModel, LoraModel, LoraConfig, get_peft_model\n",
    "import torch \n",
    "from transformers import AutoModelForSeq2SeqLM, AutoTokenizer\n",
    "from rich import print \n",
    "config = LoraConfig(r=32, lora_alpha=64, target_modules=[\"q\", \"v\"], lora_dropout=0.05, bias=\"none\")"
   ]
  },
  {
   "cell_type": "code",
   "execution_count": 2,
   "metadata": {},
   "outputs": [],
   "source": [
    "model_id=\"google/flan-t5-small\"\n",
    "tokenizer = AutoTokenizer.from_pretrained(model_id)\n",
    "model = AutoModelForSeq2SeqLM.from_pretrained(model_id)"
   ]
  },
  {
   "cell_type": "code",
   "execution_count": 17,
   "metadata": {},
   "outputs": [
    {
     "name": "stdout",
     "output_type": "stream",
     "text": [
      "trainable params: 1,376,256 || all params: 78,337,408 || trainable%: 1.7568311680672406\n"
     ]
    }
   ],
   "source": [
    "peft_model = get_peft_model(model=model, peft_config=config)\n",
    "peft_model.print_trainable_parameters()\n",
    "# print(peft_model)"
   ]
  },
  {
   "cell_type": "code",
   "execution_count": 5,
   "metadata": {},
   "outputs": [],
   "source": [
    "from Flamingo.utils.utils import save_lora_weight_only\n",
    "state_dict = save_lora_weight_only(peft_model=peft_model, save_dir=\".\")"
   ]
  },
  {
   "cell_type": "code",
   "execution_count": 11,
   "metadata": {},
   "outputs": [],
   "source": [
    "keys = peft_model.load_state_dict(state_dict=state_dict, strict=False)"
   ]
  },
  {
   "cell_type": "code",
   "execution_count": 16,
   "metadata": {},
   "outputs": [
    {
     "data": {
      "text/plain": [
       "[]"
      ]
     },
     "execution_count": 16,
     "metadata": {},
     "output_type": "execute_result"
    }
   ],
   "source": [
    "# keys.unexpected_keys \n"
   ]
  },
  {
   "cell_type": "code",
   "execution_count": 21,
   "metadata": {},
   "outputs": [
    {
     "data": {
      "text/html": [
       "<pre style=\"white-space:pre;overflow-x:auto;line-height:normal;font-family:Menlo,'DejaVu Sans Mono',consolas,'Courier New',monospace\"><span style=\"font-weight: bold\">[</span>\n",
       "    <span style=\"color: #008000; text-decoration-color: #008000\">'ds_utils.py'</span>,\n",
       "    <span style=\"color: #008000; text-decoration-color: #008000\">'train_utils.py'</span>,\n",
       "    <span style=\"color: #008000; text-decoration-color: #008000\">'pretty.ipynb'</span>,\n",
       "    <span style=\"color: #008000; text-decoration-color: #008000\">'distributed.py'</span>,\n",
       "    <span style=\"color: #008000; text-decoration-color: #008000\">'utils.py'</span>,\n",
       "    <span style=\"color: #008000; text-decoration-color: #008000\">'lora.pth'</span>,\n",
       "    <span style=\"color: #008000; text-decoration-color: #008000\">'test_model.py'</span>,\n",
       "    <span style=\"color: #008000; text-decoration-color: #008000\">'__init__.py'</span>,\n",
       "    <span style=\"color: #008000; text-decoration-color: #008000\">'parse_args.py'</span>,\n",
       "    <span style=\"color: #008000; text-decoration-color: #008000\">'pretty.py'</span>\n",
       "<span style=\"font-weight: bold\">]</span>\n",
       "</pre>\n"
      ],
      "text/plain": [
       "\u001b[1m[\u001b[0m\n",
       "    \u001b[32m'ds_utils.py'\u001b[0m,\n",
       "    \u001b[32m'train_utils.py'\u001b[0m,\n",
       "    \u001b[32m'pretty.ipynb'\u001b[0m,\n",
       "    \u001b[32m'distributed.py'\u001b[0m,\n",
       "    \u001b[32m'utils.py'\u001b[0m,\n",
       "    \u001b[32m'lora.pth'\u001b[0m,\n",
       "    \u001b[32m'test_model.py'\u001b[0m,\n",
       "    \u001b[32m'__init__.py'\u001b[0m,\n",
       "    \u001b[32m'parse_args.py'\u001b[0m,\n",
       "    \u001b[32m'pretty.py'\u001b[0m\n",
       "\u001b[1m]\u001b[0m\n"
      ]
     },
     "metadata": {},
     "output_type": "display_data"
    },
    {
     "data": {
      "text/html": [
       "<pre style=\"white-space:pre;overflow-x:auto;line-height:normal;font-family:Menlo,'DejaVu Sans Mono',consolas,'Courier New',monospace\"><span style=\"font-weight: bold\">[</span>\n",
       "    <span style=\"color: #008000; text-decoration-color: #008000\">'ds_utils.cpython-39.pyc'</span>,\n",
       "    <span style=\"color: #008000; text-decoration-color: #008000\">'utils.cpython-39.pyc'</span>,\n",
       "    <span style=\"color: #008000; text-decoration-color: #008000\">'pretty.cpython-39.pyc'</span>,\n",
       "    <span style=\"color: #008000; text-decoration-color: #008000\">'__init__.cpython-39.pyc'</span>,\n",
       "    <span style=\"color: #008000; text-decoration-color: #008000\">'distributed.cpython-39.pyc'</span>,\n",
       "    <span style=\"color: #008000; text-decoration-color: #008000\">'parse_args.cpython-39.pyc'</span>,\n",
       "    <span style=\"color: #008000; text-decoration-color: #008000\">'test_model.cpython-39.pyc'</span>,\n",
       "    <span style=\"color: #008000; text-decoration-color: #008000\">'train_utils.cpython-39.pyc'</span>\n",
       "<span style=\"font-weight: bold\">]</span>\n",
       "</pre>\n"
      ],
      "text/plain": [
       "\u001b[1m[\u001b[0m\n",
       "    \u001b[32m'ds_utils.cpython-39.pyc'\u001b[0m,\n",
       "    \u001b[32m'utils.cpython-39.pyc'\u001b[0m,\n",
       "    \u001b[32m'pretty.cpython-39.pyc'\u001b[0m,\n",
       "    \u001b[32m'__init__.cpython-39.pyc'\u001b[0m,\n",
       "    \u001b[32m'distributed.cpython-39.pyc'\u001b[0m,\n",
       "    \u001b[32m'parse_args.cpython-39.pyc'\u001b[0m,\n",
       "    \u001b[32m'test_model.cpython-39.pyc'\u001b[0m,\n",
       "    \u001b[32m'train_utils.cpython-39.pyc'\u001b[0m\n",
       "\u001b[1m]\u001b[0m\n"
      ]
     },
     "metadata": {},
     "output_type": "display_data"
    }
   ],
   "source": [
    "import os \n",
    "for i, j, k in os.walk(\".\"):\n",
    "    print(k)"
   ]
  },
  {
   "cell_type": "code",
   "execution_count": 18,
   "metadata": {},
   "outputs": [],
   "source": [
    "# [k for k in state_dict]"
   ]
  },
  {
   "cell_type": "code",
   "execution_count": 2,
   "metadata": {},
   "outputs": [],
   "source": [
    "# a = torch.Tensor([1,2,3,4]) / 2\n",
    "# a = a.cuda()"
   ]
  },
  {
   "cell_type": "code",
   "execution_count": 4,
   "metadata": {},
   "outputs": [],
   "source": [
    "a = dict(\n",
    "    a=0,\n",
    "    b=\"hello\",\n",
    "    c=[1,2,3]\n",
    ")\n",
    "b = \"hellow world\""
   ]
  },
  {
   "cell_type": "code",
   "execution_count": 5,
   "metadata": {},
   "outputs": [
    {
     "data": {
      "text/html": [
       "<pre style=\"white-space:pre;overflow-x:auto;line-height:normal;font-family:Menlo,'DejaVu Sans Mono',consolas,'Courier New',monospace\"><span style=\"color: #800080; text-decoration-color: #800080; font-weight: bold\">Local </span>! 🧛\n",
       "<span style=\"font-weight: bold\">{</span>\n",
       "    <span style=\"color: #008000; text-decoration-color: #008000\">'args'</span>: <span style=\"font-weight: bold\">({</span><span style=\"color: #008000; text-decoration-color: #008000\">'a'</span>: <span style=\"color: #008080; text-decoration-color: #008080; font-weight: bold\">0</span>, <span style=\"color: #008000; text-decoration-color: #008000\">'b'</span>: <span style=\"color: #008000; text-decoration-color: #008000\">'hello'</span>, <span style=\"color: #008000; text-decoration-color: #008000\">'c'</span>: <span style=\"font-weight: bold\">[</span><span style=\"color: #008080; text-decoration-color: #008080; font-weight: bold\">1</span>, <span style=\"color: #008080; text-decoration-color: #008080; font-weight: bold\">2</span>, <span style=\"color: #008080; text-decoration-color: #008080; font-weight: bold\">3</span><span style=\"font-weight: bold\">]}</span>, <span style=\"color: #008000; text-decoration-color: #008000\">'hellow world'</span><span style=\"font-weight: bold\">)</span>,\n",
       "    <span style=\"color: #008000; text-decoration-color: #008000\">'kwargs'</span>: <span style=\"font-weight: bold\">{}</span>,\n",
       "    <span style=\"color: #008000; text-decoration-color: #008000\">'result'</span>: <span style=\"color: #008000; text-decoration-color: #008000\">'hello   hellow world'</span>,\n",
       "    <span style=\"color: #008000; text-decoration-color: #008000\">'func'</span>: <span style=\"font-weight: bold\">&lt;</span><span style=\"color: #ff00ff; text-decoration-color: #ff00ff; font-weight: bold\">function</span><span style=\"color: #000000; text-decoration-color: #000000\"> function_scope at </span><span style=\"color: #008080; text-decoration-color: #008080; font-weight: bold\">0x7fdde7a2de50</span><span style=\"font-weight: bold\">&gt;</span>\n",
       "<span style=\"font-weight: bold\">}</span>\n",
       "</pre>\n"
      ],
      "text/plain": [
       "\u001b[1;35mLocal \u001b[0m! 🧛\n",
       "\u001b[1m{\u001b[0m\n",
       "    \u001b[32m'args'\u001b[0m: \u001b[1m(\u001b[0m\u001b[1m{\u001b[0m\u001b[32m'a'\u001b[0m: \u001b[1;36m0\u001b[0m, \u001b[32m'b'\u001b[0m: \u001b[32m'hello'\u001b[0m, \u001b[32m'c'\u001b[0m: \u001b[1m[\u001b[0m\u001b[1;36m1\u001b[0m, \u001b[1;36m2\u001b[0m, \u001b[1;36m3\u001b[0m\u001b[1m]\u001b[0m\u001b[1m}\u001b[0m, \u001b[32m'hellow world'\u001b[0m\u001b[1m)\u001b[0m,\n",
       "    \u001b[32m'kwargs'\u001b[0m: \u001b[1m{\u001b[0m\u001b[1m}\u001b[0m,\n",
       "    \u001b[32m'result'\u001b[0m: \u001b[32m'hello   hellow world'\u001b[0m,\n",
       "    \u001b[32m'func'\u001b[0m: \u001b[1m<\u001b[0m\u001b[1;95mfunction\u001b[0m\u001b[39m function_scope at \u001b[0m\u001b[1;36m0x7fdde7a2de50\u001b[0m\u001b[1m>\u001b[0m\n",
       "\u001b[1m}\u001b[0m\n"
      ]
     },
     "metadata": {},
     "output_type": "display_data"
    },
    {
     "data": {
      "text/plain": [
       "'hello   hellow world'"
      ]
     },
     "execution_count": 5,
     "metadata": {},
     "output_type": "execute_result"
    }
   ],
   "source": [
    "@print_local_vars\n",
    "def function_scope(a, b):\n",
    "    return a['b'] + \"   \" + b\n",
    "function_scope(a, b)"
   ]
  },
  {
   "cell_type": "code",
   "execution_count": 1,
   "metadata": {},
   "outputs": [
    {
     "name": "stderr",
     "output_type": "stream",
     "text": [
      "\u001b[32m2023-12-16 22:48:33.612\u001b[0m | \u001b[34m\u001b[1mDEBUG   \u001b[0m | \u001b[36m__main__\u001b[0m:\u001b[36m<module>\u001b[0m:\u001b[36m3\u001b[0m - \u001b[34m\u001b[1mThat's it, beautiful and simple logging!\u001b[0m\n"
     ]
    }
   ],
   "source": [
    "from loguru import logger\n",
    "\n",
    "logger.debug(\"That's it, beautiful and simple logging!\")"
   ]
  },
  {
   "cell_type": "code",
   "execution_count": 2,
   "metadata": {},
   "outputs": [
    {
     "data": {
      "text/plain": [
       "1"
      ]
     },
     "execution_count": 2,
     "metadata": {},
     "output_type": "execute_result"
    }
   ],
   "source": [
    "logger.add(\"file_{time}.log\")"
   ]
  },
  {
   "cell_type": "code",
   "execution_count": 8,
   "metadata": {},
   "outputs": [
    {
     "data": {
      "text/plain": [
       "4"
      ]
     },
     "execution_count": 8,
     "metadata": {},
     "output_type": "execute_result"
    }
   ],
   "source": [
    "work_dir = \"logg\"\n",
    "logger.add(work_dir + \"/{time}.log\", enqueue=True)\n",
    "# logger.add(sink=\"logg/{}file_{}.log\".format(\"test\"), enqueue=True)"
   ]
  },
  {
   "cell_type": "code",
   "execution_count": 3,
   "metadata": {},
   "outputs": [
    {
     "name": "stderr",
     "output_type": "stream",
     "text": [
      "\u001b[32m2023-12-16 22:52:37.650\u001b[0m | \u001b[34m\u001b[1mDEBUG   \u001b[0m | \u001b[36m__main__\u001b[0m:\u001b[36m<module>\u001b[0m:\u001b[36m1\u001b[0m - \u001b[34m\u001b[1mThat's it, beautiful and simple logging!\u001b[0m\n"
     ]
    }
   ],
   "source": [
    "logger.debug(\"That's it, beautiful and simple logging!\")"
   ]
  },
  {
   "cell_type": "code",
   "execution_count": 4,
   "metadata": {},
   "outputs": [
    {
     "name": "stderr",
     "output_type": "stream",
     "text": [
      "\u001b[32m2023-12-16 22:57:55.204\u001b[0m | \u001b[1mINFO    \u001b[0m | \u001b[36m__main__\u001b[0m:\u001b[36m<module>\u001b[0m:\u001b[36m1\u001b[0m - \u001b[1mHello world\u001b[0m\n"
     ]
    }
   ],
   "source": [
    "logger.info(\"Hello world\")"
   ]
  }
 ],
 "metadata": {
  "kernelspec": {
   "display_name": "openflamingo",
   "language": "python",
   "name": "python3"
  },
  "language_info": {
   "codemirror_mode": {
    "name": "ipython",
    "version": 3
   },
   "file_extension": ".py",
   "mimetype": "text/x-python",
   "name": "python",
   "nbconvert_exporter": "python",
   "pygments_lexer": "ipython3",
   "version": "3.9.18"
  },
  "vscode": {
   "interpreter": {
    "hash": "7e6bcdd7fe165736d5b00a21fc569222fa8c238b486fa29633108517a43afe55"
   }
  }
 },
 "nbformat": 4,
 "nbformat_minor": 2
}
