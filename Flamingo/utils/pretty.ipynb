{
 "cells": [
  {
   "cell_type": "code",
   "execution_count": 2,
   "metadata": {},
   "outputs": [],
   "source": [
    "from Flamingo.utils.pretty import pretty_print, print_local_vars, vis_model\n",
    "from Flamingo.utils.test_model import MyClassifier\n",
    "from loguru import logger"
   ]
  },
  {
   "cell_type": "code",
   "execution_count": 3,
   "metadata": {},
   "outputs": [],
   "source": [
    "model = MyClassifier(3, 100, ch_multi=128)"
   ]
  },
  {
   "cell_type": "code",
   "execution_count": 5,
   "metadata": {},
   "outputs": [
    {
     "data": {
      "text/html": [
       "<pre style=\"white-space:pre;overflow-x:auto;line-height:normal;font-family:Menlo,'DejaVu Sans Mono',consolas,'Courier New',monospace\"><span style=\"color: #c0c0c0; text-decoration-color: #c0c0c0\">root</span>\n",
       "├── <span style=\"color: #c0c0c0; text-decoration-color: #c0c0c0\">stage1 </span><span style=\"color: #008000; text-decoration-color: #008000\">(Sequential)</span>\n",
       "│   ├── <span style=\"color: #c0c0c0; text-decoration-color: #c0c0c0\">0 </span><span style=\"color: #008000; text-decoration-color: #008000\">(Sequential)</span>\n",
       "│   │   ├── <span style=\"color: #c0c0c0; text-decoration-color: #c0c0c0\">0 </span><span style=\"color: #008000; text-decoration-color: #008000\">(Conv2d) </span><span style=\"color: #008080; text-decoration-color: #008080\">weight:[128, 3, 2, 2] bias:[128]</span>\n",
       "│   │   └── <span style=\"color: #c0c0c0; text-decoration-color: #c0c0c0\">1 </span><span style=\"color: #008000; text-decoration-color: #008000\">(GroupNorm) </span><span style=\"color: #008080; text-decoration-color: #008080\">weight:[128] bias:[128]</span>\n",
       "│   └── <span style=\"color: #800000; text-decoration-color: #800000\">1-2</span><span style=\"color: #008000; text-decoration-color: #008000\">(ConvBlock) </span><span style=\"color: #008080; text-decoration-color: #008080\">layer_scale:[]</span>\n",
       "│       └── <span style=\"color: #c0c0c0; text-decoration-color: #c0c0c0\">residual </span><span style=\"color: #008000; text-decoration-color: #008000\">(Sequential)</span>\n",
       "│           ├── <span style=\"color: #800000; text-decoration-color: #800000\">0-0,3-3</span><span style=\"color: #008000; text-decoration-color: #008000\">(GroupNorm) </span><span style=\"color: #008080; text-decoration-color: #008080\">weight:[128] bias:[128]</span>\n",
       "│           └── <span style=\"color: #800000; text-decoration-color: #800000\">2-2,5-5</span><span style=\"color: #008000; text-decoration-color: #008000\">(Conv2d) </span><span style=\"color: #008080; text-decoration-color: #008080\">weight:[128, 128, 3, 3] bias:[128]</span>\n",
       "├── <span style=\"color: #c0c0c0; text-decoration-color: #c0c0c0\">stage2 </span><span style=\"color: #008000; text-decoration-color: #008000\">(Sequential)</span>\n",
       "│   ├── <span style=\"color: #c0c0c0; text-decoration-color: #c0c0c0\">0 </span><span style=\"color: #008000; text-decoration-color: #008000\">(Sequential)</span>\n",
       "│   │   ├── <span style=\"color: #c0c0c0; text-decoration-color: #c0c0c0\">0 </span><span style=\"color: #008000; text-decoration-color: #008000\">(Conv2d) </span><span style=\"color: #008080; text-decoration-color: #008080\">weight:[256, 128, 2, 2] bias:[256]</span>\n",
       "│   │   └── <span style=\"color: #c0c0c0; text-decoration-color: #c0c0c0\">1 </span><span style=\"color: #008000; text-decoration-color: #008000\">(GroupNorm) </span><span style=\"color: #008080; text-decoration-color: #008080\">weight:[256] bias:[256]</span>\n",
       "│   └── <span style=\"color: #800000; text-decoration-color: #800000\">1-2</span><span style=\"color: #008000; text-decoration-color: #008000\">(ConvBlock) </span><span style=\"color: #008080; text-decoration-color: #008080\">layer_scale:[]</span>\n",
       "│       └── <span style=\"color: #c0c0c0; text-decoration-color: #c0c0c0\">residual </span><span style=\"color: #008000; text-decoration-color: #008000\">(Sequential)</span>\n",
       "│           ├── <span style=\"color: #800000; text-decoration-color: #800000\">0-0,3-3</span><span style=\"color: #008000; text-decoration-color: #008000\">(GroupNorm) </span><span style=\"color: #008080; text-decoration-color: #008080\">weight:[256] bias:[256]</span>\n",
       "│           └── <span style=\"color: #800000; text-decoration-color: #800000\">2-2,5-5</span><span style=\"color: #008000; text-decoration-color: #008000\">(Conv2d) </span><span style=\"color: #008080; text-decoration-color: #008080\">weight:[256, 256, 3, 3] bias:[256]</span>\n",
       "├── <span style=\"color: #c0c0c0; text-decoration-color: #c0c0c0\">stage3 </span><span style=\"color: #008000; text-decoration-color: #008000\">(Sequential)</span>\n",
       "│   ├── <span style=\"color: #c0c0c0; text-decoration-color: #c0c0c0\">0 </span><span style=\"color: #008000; text-decoration-color: #008000\">(Sequential)</span>\n",
       "│   │   ├── <span style=\"color: #c0c0c0; text-decoration-color: #c0c0c0\">0 </span><span style=\"color: #008000; text-decoration-color: #008000\">(Conv2d) </span><span style=\"color: #008080; text-decoration-color: #008080\">weight:[512, 256, 2, 2] bias:[512]</span>\n",
       "│   │   └── <span style=\"color: #c0c0c0; text-decoration-color: #c0c0c0\">1 </span><span style=\"color: #008000; text-decoration-color: #008000\">(GroupNorm) </span><span style=\"color: #008080; text-decoration-color: #008080\">weight:[512] bias:[512]</span>\n",
       "│   └── <span style=\"color: #800000; text-decoration-color: #800000\">1-2</span><span style=\"color: #008000; text-decoration-color: #008000\">(ConvBlock) </span><span style=\"color: #008080; text-decoration-color: #008080\">layer_scale:[]</span>\n",
       "│       └── <span style=\"color: #c0c0c0; text-decoration-color: #c0c0c0\">residual </span><span style=\"color: #008000; text-decoration-color: #008000\">(Sequential)</span>\n",
       "│           ├── <span style=\"color: #800000; text-decoration-color: #800000\">0-0,3-3</span><span style=\"color: #008000; text-decoration-color: #008000\">(GroupNorm) </span><span style=\"color: #008080; text-decoration-color: #008080\">weight:[512] bias:[512]</span>\n",
       "│           └── <span style=\"color: #800000; text-decoration-color: #800000\">2-2,5-5</span><span style=\"color: #008000; text-decoration-color: #008000\">(Conv2d) </span><span style=\"color: #008080; text-decoration-color: #008080\">weight:[512, 512, 3, 3] bias:[512]</span>\n",
       "├── <span style=\"color: #c0c0c0; text-decoration-color: #c0c0c0\">stage4 </span><span style=\"color: #008000; text-decoration-color: #008000\">(Sequential)</span>\n",
       "│   ├── <span style=\"color: #c0c0c0; text-decoration-color: #c0c0c0\">0 </span><span style=\"color: #008000; text-decoration-color: #008000\">(Sequential)</span>\n",
       "│   │   ├── <span style=\"color: #c0c0c0; text-decoration-color: #c0c0c0\">0 </span><span style=\"color: #008000; text-decoration-color: #008000\">(Conv2d) </span><span style=\"color: #008080; text-decoration-color: #008080\">weight:[1024, 512, 2, 2] bias:[1024]</span>\n",
       "│   │   └── <span style=\"color: #c0c0c0; text-decoration-color: #c0c0c0\">1 </span><span style=\"color: #008000; text-decoration-color: #008000\">(GroupNorm) </span><span style=\"color: #008080; text-decoration-color: #008080\">weight:[1024] bias:[1024]</span>\n",
       "│   └── <span style=\"color: #800000; text-decoration-color: #800000\">1-2</span><span style=\"color: #008000; text-decoration-color: #008000\">(ConvBlock) </span><span style=\"color: #008080; text-decoration-color: #008080\">layer_scale:[]</span>\n",
       "│       └── <span style=\"color: #c0c0c0; text-decoration-color: #c0c0c0\">residual </span><span style=\"color: #008000; text-decoration-color: #008000\">(Sequential)</span>\n",
       "│           ├── <span style=\"color: #800000; text-decoration-color: #800000\">0-0,3-3</span><span style=\"color: #008000; text-decoration-color: #008000\">(GroupNorm) </span><span style=\"color: #008080; text-decoration-color: #008080\">weight:[1024] bias:[1024]</span>\n",
       "│           └── <span style=\"color: #800000; text-decoration-color: #800000\">2-2,5-5</span><span style=\"color: #008000; text-decoration-color: #008000\">(Conv2d) </span><span style=\"color: #008080; text-decoration-color: #008080\">weight:[1024, 1024, 3, 3] bias:[1024]</span>\n",
       "└── <span style=\"color: #c0c0c0; text-decoration-color: #c0c0c0\">classifier </span><span style=\"color: #008000; text-decoration-color: #008000\">(Sequential)</span>\n",
       "    └── <span style=\"color: #c0c0c0; text-decoration-color: #c0c0c0\">2 </span><span style=\"color: #008000; text-decoration-color: #008000\">(Linear) </span><span style=\"color: #008080; text-decoration-color: #008080\">weight:[100, 1024] bias:[100]</span>\n",
       "</pre>\n"
      ],
      "text/plain": [
       "\u001b[37mroot\u001b[0m\n",
       "├── \u001b[37mstage1 \u001b[0m\u001b[32m(Sequential)\u001b[0m\n",
       "│   ├── \u001b[37m0 \u001b[0m\u001b[32m(Sequential)\u001b[0m\n",
       "│   │   ├── \u001b[37m0 \u001b[0m\u001b[32m(Conv2d) \u001b[0m\u001b[36mweight:[128, 3, 2, 2] \u001b[0m\u001b[36mbias:[128]\u001b[0m\n",
       "│   │   └── \u001b[37m1 \u001b[0m\u001b[32m(GroupNorm) \u001b[0m\u001b[36mweight:[128] \u001b[0m\u001b[36mbias:[128]\u001b[0m\n",
       "│   └── \u001b[31m1-2\u001b[0m\u001b[32m(ConvBlock) \u001b[0m\u001b[36mlayer_scale:[]\u001b[0m\n",
       "│       └── \u001b[37mresidual \u001b[0m\u001b[32m(Sequential)\u001b[0m\n",
       "│           ├── \u001b[31m0-0,3-3\u001b[0m\u001b[32m(GroupNorm) \u001b[0m\u001b[36mweight:[128] \u001b[0m\u001b[36mbias:[128]\u001b[0m\n",
       "│           └── \u001b[31m2-2,5-5\u001b[0m\u001b[32m(Conv2d) \u001b[0m\u001b[36mweight:[128, 128, 3, 3] \u001b[0m\u001b[36mbias:[128]\u001b[0m\n",
       "├── \u001b[37mstage2 \u001b[0m\u001b[32m(Sequential)\u001b[0m\n",
       "│   ├── \u001b[37m0 \u001b[0m\u001b[32m(Sequential)\u001b[0m\n",
       "│   │   ├── \u001b[37m0 \u001b[0m\u001b[32m(Conv2d) \u001b[0m\u001b[36mweight:[256, 128, 2, 2] \u001b[0m\u001b[36mbias:[256]\u001b[0m\n",
       "│   │   └── \u001b[37m1 \u001b[0m\u001b[32m(GroupNorm) \u001b[0m\u001b[36mweight:[256] \u001b[0m\u001b[36mbias:[256]\u001b[0m\n",
       "│   └── \u001b[31m1-2\u001b[0m\u001b[32m(ConvBlock) \u001b[0m\u001b[36mlayer_scale:[]\u001b[0m\n",
       "│       └── \u001b[37mresidual \u001b[0m\u001b[32m(Sequential)\u001b[0m\n",
       "│           ├── \u001b[31m0-0,3-3\u001b[0m\u001b[32m(GroupNorm) \u001b[0m\u001b[36mweight:[256] \u001b[0m\u001b[36mbias:[256]\u001b[0m\n",
       "│           └── \u001b[31m2-2,5-5\u001b[0m\u001b[32m(Conv2d) \u001b[0m\u001b[36mweight:[256, 256, 3, 3] \u001b[0m\u001b[36mbias:[256]\u001b[0m\n",
       "├── \u001b[37mstage3 \u001b[0m\u001b[32m(Sequential)\u001b[0m\n",
       "│   ├── \u001b[37m0 \u001b[0m\u001b[32m(Sequential)\u001b[0m\n",
       "│   │   ├── \u001b[37m0 \u001b[0m\u001b[32m(Conv2d) \u001b[0m\u001b[36mweight:[512, 256, 2, 2] \u001b[0m\u001b[36mbias:[512]\u001b[0m\n",
       "│   │   └── \u001b[37m1 \u001b[0m\u001b[32m(GroupNorm) \u001b[0m\u001b[36mweight:[512] \u001b[0m\u001b[36mbias:[512]\u001b[0m\n",
       "│   └── \u001b[31m1-2\u001b[0m\u001b[32m(ConvBlock) \u001b[0m\u001b[36mlayer_scale:[]\u001b[0m\n",
       "│       └── \u001b[37mresidual \u001b[0m\u001b[32m(Sequential)\u001b[0m\n",
       "│           ├── \u001b[31m0-0,3-3\u001b[0m\u001b[32m(GroupNorm) \u001b[0m\u001b[36mweight:[512] \u001b[0m\u001b[36mbias:[512]\u001b[0m\n",
       "│           └── \u001b[31m2-2,5-5\u001b[0m\u001b[32m(Conv2d) \u001b[0m\u001b[36mweight:[512, 512, 3, 3] \u001b[0m\u001b[36mbias:[512]\u001b[0m\n",
       "├── \u001b[37mstage4 \u001b[0m\u001b[32m(Sequential)\u001b[0m\n",
       "│   ├── \u001b[37m0 \u001b[0m\u001b[32m(Sequential)\u001b[0m\n",
       "│   │   ├── \u001b[37m0 \u001b[0m\u001b[32m(Conv2d) \u001b[0m\u001b[36mweight:[1024, 512, 2, 2] \u001b[0m\u001b[36mbias:[1024]\u001b[0m\n",
       "│   │   └── \u001b[37m1 \u001b[0m\u001b[32m(GroupNorm) \u001b[0m\u001b[36mweight:[1024] \u001b[0m\u001b[36mbias:[1024]\u001b[0m\n",
       "│   └── \u001b[31m1-2\u001b[0m\u001b[32m(ConvBlock) \u001b[0m\u001b[36mlayer_scale:[]\u001b[0m\n",
       "│       └── \u001b[37mresidual \u001b[0m\u001b[32m(Sequential)\u001b[0m\n",
       "│           ├── \u001b[31m0-0,3-3\u001b[0m\u001b[32m(GroupNorm) \u001b[0m\u001b[36mweight:[1024] \u001b[0m\u001b[36mbias:[1024]\u001b[0m\n",
       "│           └── \u001b[31m2-2,5-5\u001b[0m\u001b[32m(Conv2d) \u001b[0m\u001b[36mweight:[1024, 1024, 3, 3] \u001b[0m\u001b[36mbias:[1024]\u001b[0m\n",
       "└── \u001b[37mclassifier \u001b[0m\u001b[32m(Sequential)\u001b[0m\n",
       "    └── \u001b[37m2 \u001b[0m\u001b[32m(Linear) \u001b[0m\u001b[36mweight:[100, 1024] \u001b[0m\u001b[36mbias:[100]\u001b[0m\n"
      ]
     },
     "metadata": {},
     "output_type": "display_data"
    }
   ],
   "source": [
    "x = vis_model(model)"
   ]
  },
  {
   "cell_type": "code",
   "execution_count": 26,
   "metadata": {},
   "outputs": [
    {
     "name": "stderr",
     "output_type": "stream",
     "text": [
      "\u001b[32m2023-12-17 15:04:19.109\u001b[0m | \u001b[1mINFO    \u001b[0m | \u001b[36m__main__\u001b[0m:\u001b[36m<module>\u001b[0m:\u001b[36m1\u001b[0m - \u001b[1mMyClassifier(\n",
      "  (stage1): Sequential(\n",
      "    (0): Sequential(\n",
      "      (0): Conv2d(3, 128, kernel_size=(2, 2), stride=(2, 2))\n",
      "      (1): GroupNorm(1, 128, eps=1e-05, affine=True)\n",
      "    )\n",
      "    (1): ConvBlock(\n",
      "      (residual): Sequential(\n",
      "        (0): GroupNorm(1, 128, eps=1e-05, affine=True)\n",
      "        (1): GELU(approximate='none')\n",
      "        (2): Conv2d(128, 128, kernel_size=(3, 3), stride=(1, 1), padding=(1, 1))\n",
      "        (3): GroupNorm(1, 128, eps=1e-05, affine=True)\n",
      "        (4): GELU(approximate='none')\n",
      "        (5): Conv2d(128, 128, kernel_size=(3, 3), stride=(1, 1), padding=(1, 1))\n",
      "      )\n",
      "    )\n",
      "    (2): ConvBlock(\n",
      "      (residual): Sequential(\n",
      "        (0): GroupNorm(1, 128, eps=1e-05, affine=True)\n",
      "        (1): GELU(approximate='none')\n",
      "        (2): Conv2d(128, 128, kernel_size=(3, 3), stride=(1, 1), padding=(1, 1))\n",
      "        (3): GroupNorm(1, 128, eps=1e-05, affine=True)\n",
      "        (4): GELU(approximate='none')\n",
      "        (5): Conv2d(128, 128, kernel_size=(3, 3), stride=(1, 1), padding=(1, 1))\n",
      "      )\n",
      "    )\n",
      "  )\n",
      "  (stage2): Sequential(\n",
      "    (0): Sequential(\n",
      "      (0): Conv2d(128, 256, kernel_size=(2, 2), stride=(2, 2))\n",
      "      (1): GroupNorm(1, 256, eps=1e-05, affine=True)\n",
      "    )\n",
      "    (1): ConvBlock(\n",
      "      (residual): Sequential(\n",
      "        (0): GroupNorm(1, 256, eps=1e-05, affine=True)\n",
      "        (1): GELU(approximate='none')\n",
      "        (2): Conv2d(256, 256, kernel_size=(3, 3), stride=(1, 1), padding=(1, 1))\n",
      "        (3): GroupNorm(1, 256, eps=1e-05, affine=True)\n",
      "        (4): GELU(approximate='none')\n",
      "        (5): Conv2d(256, 256, kernel_size=(3, 3), stride=(1, 1), padding=(1, 1))\n",
      "      )\n",
      "    )\n",
      "    (2): ConvBlock(\n",
      "      (residual): Sequential(\n",
      "        (0): GroupNorm(1, 256, eps=1e-05, affine=True)\n",
      "        (1): GELU(approximate='none')\n",
      "        (2): Conv2d(256, 256, kernel_size=(3, 3), stride=(1, 1), padding=(1, 1))\n",
      "        (3): GroupNorm(1, 256, eps=1e-05, affine=True)\n",
      "        (4): GELU(approximate='none')\n",
      "        (5): Conv2d(256, 256, kernel_size=(3, 3), stride=(1, 1), padding=(1, 1))\n",
      "      )\n",
      "    )\n",
      "  )\n",
      "  (stage3): Sequential(\n",
      "    (0): Sequential(\n",
      "      (0): Conv2d(256, 512, kernel_size=(2, 2), stride=(2, 2))\n",
      "      (1): GroupNorm(1, 512, eps=1e-05, affine=True)\n",
      "    )\n",
      "    (1): ConvBlock(\n",
      "      (residual): Sequential(\n",
      "        (0): GroupNorm(1, 512, eps=1e-05, affine=True)\n",
      "        (1): GELU(approximate='none')\n",
      "        (2): Conv2d(512, 512, kernel_size=(3, 3), stride=(1, 1), padding=(1, 1))\n",
      "        (3): GroupNorm(1, 512, eps=1e-05, affine=True)\n",
      "        (4): GELU(approximate='none')\n",
      "        (5): Conv2d(512, 512, kernel_size=(3, 3), stride=(1, 1), padding=(1, 1))\n",
      "      )\n",
      "    )\n",
      "    (2): ConvBlock(\n",
      "      (residual): Sequential(\n",
      "        (0): GroupNorm(1, 512, eps=1e-05, affine=True)\n",
      "        (1): GELU(approximate='none')\n",
      "        (2): Conv2d(512, 512, kernel_size=(3, 3), stride=(1, 1), padding=(1, 1))\n",
      "        (3): GroupNorm(1, 512, eps=1e-05, affine=True)\n",
      "        (4): GELU(approximate='none')\n",
      "        (5): Conv2d(512, 512, kernel_size=(3, 3), stride=(1, 1), padding=(1, 1))\n",
      "      )\n",
      "    )\n",
      "  )\n",
      "  (stage4): Sequential(\n",
      "    (0): Sequential(\n",
      "      (0): Conv2d(512, 1024, kernel_size=(2, 2), stride=(2, 2))\n",
      "      (1): GroupNorm(1, 1024, eps=1e-05, affine=True)\n",
      "    )\n",
      "    (1): ConvBlock(\n",
      "      (residual): Sequential(\n",
      "        (0): GroupNorm(1, 1024, eps=1e-05, affine=True)\n",
      "        (1): GELU(approximate='none')\n",
      "        (2): Conv2d(1024, 1024, kernel_size=(3, 3), stride=(1, 1), padding=(1, 1))\n",
      "        (3): GroupNorm(1, 1024, eps=1e-05, affine=True)\n",
      "        (4): GELU(approximate='none')\n",
      "        (5): Conv2d(1024, 1024, kernel_size=(3, 3), stride=(1, 1), padding=(1, 1))\n",
      "      )\n",
      "    )\n",
      "    (2): ConvBlock(\n",
      "      (residual): Sequential(\n",
      "        (0): GroupNorm(1, 1024, eps=1e-05, affine=True)\n",
      "        (1): GELU(approximate='none')\n",
      "        (2): Conv2d(1024, 1024, kernel_size=(3, 3), stride=(1, 1), padding=(1, 1))\n",
      "        (3): GroupNorm(1, 1024, eps=1e-05, affine=True)\n",
      "        (4): GELU(approximate='none')\n",
      "        (5): Conv2d(1024, 1024, kernel_size=(3, 3), stride=(1, 1), padding=(1, 1))\n",
      "      )\n",
      "    )\n",
      "  )\n",
      "  (classifier): Sequential(\n",
      "    (0): AdaptiveAvgPool2d(output_size=(1, 1))\n",
      "    (1): Flatten(start_dim=1, end_dim=-1)\n",
      "    (2): Linear(in_features=1024, out_features=100, bias=True)\n",
      "  )\n",
      ")\u001b[0m\n"
     ]
    }
   ],
   "source": [
    "logger.info(model)"
   ]
  },
  {
   "cell_type": "code",
   "execution_count": 25,
   "metadata": {},
   "outputs": [
    {
     "name": "stdout",
     "output_type": "stream",
     "text": [
      "<bigmodelvis.visualization.ModuleTree object at 0x7f762ec39d30>\n"
     ]
    }
   ],
   "source": [
    "\n",
    "# print(x)"
   ]
  },
  {
   "cell_type": "code",
   "execution_count": 21,
   "metadata": {},
   "outputs": [
    {
     "data": {
      "text/html": [
       "<pre style=\"white-space:pre;overflow-x:auto;line-height:normal;font-family:Menlo,'DejaVu Sans Mono',consolas,'Courier New',monospace\"><span style=\"color: #c0c0c0; text-decoration-color: #c0c0c0\">stage1 </span><span style=\"color: #008000; text-decoration-color: #008000\">(Sequential)</span>\n",
       "├── <span style=\"color: #c0c0c0; text-decoration-color: #c0c0c0\">0 </span><span style=\"color: #008000; text-decoration-color: #008000\">(Sequential)</span>\n",
       "│   ├── <span style=\"color: #c0c0c0; text-decoration-color: #c0c0c0\">0 </span><span style=\"color: #008000; text-decoration-color: #008000\">(Conv2d) </span><span style=\"color: #008080; text-decoration-color: #008080\">weight:[128, 3, 2, 2] bias:[128]</span>\n",
       "│   └── <span style=\"color: #c0c0c0; text-decoration-color: #c0c0c0\">1 </span><span style=\"color: #008000; text-decoration-color: #008000\">(GroupNorm) </span><span style=\"color: #008080; text-decoration-color: #008080\">weight:[128] bias:[128]</span>\n",
       "└── <span style=\"color: #800000; text-decoration-color: #800000\">1-2</span><span style=\"color: #008000; text-decoration-color: #008000\">(ConvBlock) </span><span style=\"color: #008080; text-decoration-color: #008080\">layer_scale:[]</span>\n",
       "    └── <span style=\"color: #c0c0c0; text-decoration-color: #c0c0c0\">residual </span><span style=\"color: #008000; text-decoration-color: #008000\">(Sequential)</span>\n",
       "        ├── <span style=\"color: #800000; text-decoration-color: #800000\">0-0,3-3</span><span style=\"color: #008000; text-decoration-color: #008000\">(GroupNorm) </span><span style=\"color: #008080; text-decoration-color: #008080\">weight:[128] bias:[128]</span>\n",
       "        └── <span style=\"color: #800000; text-decoration-color: #800000\">2-2,5-5</span><span style=\"color: #008000; text-decoration-color: #008000\">(Conv2d) </span><span style=\"color: #008080; text-decoration-color: #008080\">weight:[128, 128, 3, 3] bias:[128]</span>\n",
       "</pre>\n"
      ],
      "text/plain": [
       "\u001b[37mstage1 \u001b[0m\u001b[32m(Sequential)\u001b[0m\n",
       "├── \u001b[37m0 \u001b[0m\u001b[32m(Sequential)\u001b[0m\n",
       "│   ├── \u001b[37m0 \u001b[0m\u001b[32m(Conv2d) \u001b[0m\u001b[36mweight:[128, 3, 2, 2] \u001b[0m\u001b[36mbias:[128]\u001b[0m\n",
       "│   └── \u001b[37m1 \u001b[0m\u001b[32m(GroupNorm) \u001b[0m\u001b[36mweight:[128] \u001b[0m\u001b[36mbias:[128]\u001b[0m\n",
       "└── \u001b[31m1-2\u001b[0m\u001b[32m(ConvBlock) \u001b[0m\u001b[36mlayer_scale:[]\u001b[0m\n",
       "    └── \u001b[37mresidual \u001b[0m\u001b[32m(Sequential)\u001b[0m\n",
       "        ├── \u001b[31m0-0,3-3\u001b[0m\u001b[32m(GroupNorm) \u001b[0m\u001b[36mweight:[128] \u001b[0m\u001b[36mbias:[128]\u001b[0m\n",
       "        └── \u001b[31m2-2,5-5\u001b[0m\u001b[32m(Conv2d) \u001b[0m\u001b[36mweight:[128, 128, 3, 3] \u001b[0m\u001b[36mbias:[128]\u001b[0m\n"
      ]
     },
     "execution_count": 21,
     "metadata": {},
     "output_type": "execute_result"
    }
   ],
   "source": []
  },
  {
   "cell_type": "markdown",
   "metadata": {},
   "source": [
    "a decorator to print local varibles in function scope"
   ]
  },
  {
   "cell_type": "code",
   "execution_count": 4,
   "metadata": {},
   "outputs": [],
   "source": [
    "a = dict(\n",
    "    a=0,\n",
    "    b=\"hello\",\n",
    "    c=[1,2,3]\n",
    ")\n",
    "b = \"hellow world\""
   ]
  },
  {
   "cell_type": "code",
   "execution_count": 5,
   "metadata": {},
   "outputs": [
    {
     "data": {
      "text/html": [
       "<pre style=\"white-space:pre;overflow-x:auto;line-height:normal;font-family:Menlo,'DejaVu Sans Mono',consolas,'Courier New',monospace\"><span style=\"color: #800080; text-decoration-color: #800080; font-weight: bold\">Local </span>! 🧛\n",
       "<span style=\"font-weight: bold\">{</span>\n",
       "    <span style=\"color: #008000; text-decoration-color: #008000\">'args'</span>: <span style=\"font-weight: bold\">({</span><span style=\"color: #008000; text-decoration-color: #008000\">'a'</span>: <span style=\"color: #008080; text-decoration-color: #008080; font-weight: bold\">0</span>, <span style=\"color: #008000; text-decoration-color: #008000\">'b'</span>: <span style=\"color: #008000; text-decoration-color: #008000\">'hello'</span>, <span style=\"color: #008000; text-decoration-color: #008000\">'c'</span>: <span style=\"font-weight: bold\">[</span><span style=\"color: #008080; text-decoration-color: #008080; font-weight: bold\">1</span>, <span style=\"color: #008080; text-decoration-color: #008080; font-weight: bold\">2</span>, <span style=\"color: #008080; text-decoration-color: #008080; font-weight: bold\">3</span><span style=\"font-weight: bold\">]}</span>, <span style=\"color: #008000; text-decoration-color: #008000\">'hellow world'</span><span style=\"font-weight: bold\">)</span>,\n",
       "    <span style=\"color: #008000; text-decoration-color: #008000\">'kwargs'</span>: <span style=\"font-weight: bold\">{}</span>,\n",
       "    <span style=\"color: #008000; text-decoration-color: #008000\">'result'</span>: <span style=\"color: #008000; text-decoration-color: #008000\">'hello   hellow world'</span>,\n",
       "    <span style=\"color: #008000; text-decoration-color: #008000\">'func'</span>: <span style=\"font-weight: bold\">&lt;</span><span style=\"color: #ff00ff; text-decoration-color: #ff00ff; font-weight: bold\">function</span><span style=\"color: #000000; text-decoration-color: #000000\"> function_scope at </span><span style=\"color: #008080; text-decoration-color: #008080; font-weight: bold\">0x7fdde7a2de50</span><span style=\"font-weight: bold\">&gt;</span>\n",
       "<span style=\"font-weight: bold\">}</span>\n",
       "</pre>\n"
      ],
      "text/plain": [
       "\u001b[1;35mLocal \u001b[0m! 🧛\n",
       "\u001b[1m{\u001b[0m\n",
       "    \u001b[32m'args'\u001b[0m: \u001b[1m(\u001b[0m\u001b[1m{\u001b[0m\u001b[32m'a'\u001b[0m: \u001b[1;36m0\u001b[0m, \u001b[32m'b'\u001b[0m: \u001b[32m'hello'\u001b[0m, \u001b[32m'c'\u001b[0m: \u001b[1m[\u001b[0m\u001b[1;36m1\u001b[0m, \u001b[1;36m2\u001b[0m, \u001b[1;36m3\u001b[0m\u001b[1m]\u001b[0m\u001b[1m}\u001b[0m, \u001b[32m'hellow world'\u001b[0m\u001b[1m)\u001b[0m,\n",
       "    \u001b[32m'kwargs'\u001b[0m: \u001b[1m{\u001b[0m\u001b[1m}\u001b[0m,\n",
       "    \u001b[32m'result'\u001b[0m: \u001b[32m'hello   hellow world'\u001b[0m,\n",
       "    \u001b[32m'func'\u001b[0m: \u001b[1m<\u001b[0m\u001b[1;95mfunction\u001b[0m\u001b[39m function_scope at \u001b[0m\u001b[1;36m0x7fdde7a2de50\u001b[0m\u001b[1m>\u001b[0m\n",
       "\u001b[1m}\u001b[0m\n"
      ]
     },
     "metadata": {},
     "output_type": "display_data"
    },
    {
     "data": {
      "text/plain": [
       "'hello   hellow world'"
      ]
     },
     "execution_count": 5,
     "metadata": {},
     "output_type": "execute_result"
    }
   ],
   "source": [
    "@print_local_vars\n",
    "def function_scope(a, b):\n",
    "    return a['b'] + \"   \" + b\n",
    "function_scope(a, b)"
   ]
  },
  {
   "cell_type": "code",
   "execution_count": 1,
   "metadata": {},
   "outputs": [
    {
     "name": "stderr",
     "output_type": "stream",
     "text": [
      "\u001b[32m2023-12-16 22:48:33.612\u001b[0m | \u001b[34m\u001b[1mDEBUG   \u001b[0m | \u001b[36m__main__\u001b[0m:\u001b[36m<module>\u001b[0m:\u001b[36m3\u001b[0m - \u001b[34m\u001b[1mThat's it, beautiful and simple logging!\u001b[0m\n"
     ]
    }
   ],
   "source": [
    "from loguru import logger\n",
    "\n",
    "logger.debug(\"That's it, beautiful and simple logging!\")"
   ]
  },
  {
   "cell_type": "code",
   "execution_count": 2,
   "metadata": {},
   "outputs": [
    {
     "data": {
      "text/plain": [
       "1"
      ]
     },
     "execution_count": 2,
     "metadata": {},
     "output_type": "execute_result"
    }
   ],
   "source": [
    "logger.add(\"file_{time}.log\")"
   ]
  },
  {
   "cell_type": "code",
   "execution_count": 8,
   "metadata": {},
   "outputs": [
    {
     "data": {
      "text/plain": [
       "4"
      ]
     },
     "execution_count": 8,
     "metadata": {},
     "output_type": "execute_result"
    }
   ],
   "source": [
    "work_dir = \"logg\"\n",
    "logger.add(work_dir + \"/{time}.log\", enqueue=True)\n",
    "# logger.add(sink=\"logg/{}file_{}.log\".format(\"test\"), enqueue=True)"
   ]
  },
  {
   "cell_type": "code",
   "execution_count": 3,
   "metadata": {},
   "outputs": [
    {
     "name": "stderr",
     "output_type": "stream",
     "text": [
      "\u001b[32m2023-12-16 22:52:37.650\u001b[0m | \u001b[34m\u001b[1mDEBUG   \u001b[0m | \u001b[36m__main__\u001b[0m:\u001b[36m<module>\u001b[0m:\u001b[36m1\u001b[0m - \u001b[34m\u001b[1mThat's it, beautiful and simple logging!\u001b[0m\n"
     ]
    }
   ],
   "source": [
    "logger.debug(\"That's it, beautiful and simple logging!\")"
   ]
  },
  {
   "cell_type": "code",
   "execution_count": 4,
   "metadata": {},
   "outputs": [
    {
     "name": "stderr",
     "output_type": "stream",
     "text": [
      "\u001b[32m2023-12-16 22:57:55.204\u001b[0m | \u001b[1mINFO    \u001b[0m | \u001b[36m__main__\u001b[0m:\u001b[36m<module>\u001b[0m:\u001b[36m1\u001b[0m - \u001b[1mHello world\u001b[0m\n"
     ]
    }
   ],
   "source": [
    "logger.info(\"Hello world\")"
   ]
  }
 ],
 "metadata": {
  "kernelspec": {
   "display_name": "openflamingo",
   "language": "python",
   "name": "python3"
  },
  "language_info": {
   "codemirror_mode": {
    "name": "ipython",
    "version": 3
   },
   "file_extension": ".py",
   "mimetype": "text/x-python",
   "name": "python",
   "nbconvert_exporter": "python",
   "pygments_lexer": "ipython3",
   "version": "3.9.18"
  },
  "vscode": {
   "interpreter": {
    "hash": "7e6bcdd7fe165736d5b00a21fc569222fa8c238b486fa29633108517a43afe55"
   }
  }
 },
 "nbformat": 4,
 "nbformat_minor": 2
}
